{
 "cells": [
  {
   "cell_type": "markdown",
   "id": "d36bee6b-3642-4546-895d-e562cdcc1bb6",
   "metadata": {
    "tags": []
   },
   "source": [
    "# LADOT Parking Meter Zones\n",
    "The data contains parking meter zone information. Parking meters are divided into zones for maintenance and management of the meters. LADOT manages approximately 40,000 on-street and off-street public metered parking spaces. I will be attempting to explore this dataset in Jupyter Notebooks using some basic commands. "
   ]
  },
  {
   "cell_type": "code",
   "execution_count": 6,
   "id": "cf3446bf-d68e-480d-96f3-27f90d5d66e8",
   "metadata": {},
   "outputs": [],
   "source": [
    "import pandas as pd\n",
    "import geopandas as gpd"
   ]
  },
  {
   "cell_type": "code",
   "execution_count": 7,
   "id": "7b913023-d030-474e-804a-56e2f3ffc411",
   "metadata": {},
   "outputs": [],
   "source": [
    "# read and add shapefile to notebook\n",
    "LADOT = gpd.read_file('Data/LADOT_Parking_Meter.csv')"
   ]
  },
  {
   "cell_type": "code",
   "execution_count": 8,
   "id": "9c3a6466-f070-4cee-a295-a1cc51a7d35f",
   "metadata": {},
   "outputs": [
    {
     "data": {
      "text/plain": [
       "geopandas.geodataframe.GeoDataFrame"
      ]
     },
     "execution_count": 8,
     "metadata": {},
     "output_type": "execute_result"
    }
   ],
   "source": [
    "# what's the data type\n",
    "type(LADOT)"
   ]
  },
  {
   "cell_type": "code",
   "execution_count": 9,
   "id": "891ce53d-c590-420a-8bf7-a296a6b628aa",
   "metadata": {},
   "outputs": [
    {
     "data": {
      "text/html": [
       "<div>\n",
       "<style scoped>\n",
       "    .dataframe tbody tr th:only-of-type {\n",
       "        vertical-align: middle;\n",
       "    }\n",
       "\n",
       "    .dataframe tbody tr th {\n",
       "        vertical-align: top;\n",
       "    }\n",
       "\n",
       "    .dataframe thead th {\n",
       "        text-align: right;\n",
       "    }\n",
       "</style>\n",
       "<table border=\"1\" class=\"dataframe\">\n",
       "  <thead>\n",
       "    <tr style=\"text-align: right;\">\n",
       "      <th></th>\n",
       "      <th>OBJECTID</th>\n",
       "      <th>PMZ</th>\n",
       "      <th>PMZ_CODE</th>\n",
       "      <th>PMZ_NAME</th>\n",
       "      <th>TOOLTIP</th>\n",
       "      <th>NLA_URL</th>\n",
       "      <th>geometry</th>\n",
       "    </tr>\n",
       "  </thead>\n",
       "  <tbody>\n",
       "    <tr>\n",
       "      <th>0</th>\n",
       "      <td>1</td>\n",
       "      <td>519</td>\n",
       "      <td>GA</td>\n",
       "      <td>Glendale Atwater</td>\n",
       "      <td>Zone: Glendale Atwater</td>\n",
       "      <td>navigatela/reports/dot_parking_meter_zones.cfm...</td>\n",
       "      <td>None</td>\n",
       "    </tr>\n",
       "    <tr>\n",
       "      <th>1</th>\n",
       "      <td>2</td>\n",
       "      <td>504</td>\n",
       "      <td>VH</td>\n",
       "      <td>Vermont Hollywood</td>\n",
       "      <td>Zone: Vermont Hollywood</td>\n",
       "      <td>navigatela/reports/dot_parking_meter_zones.cfm...</td>\n",
       "      <td>None</td>\n",
       "    </tr>\n",
       "    <tr>\n",
       "      <th>2</th>\n",
       "      <td>3</td>\n",
       "      <td>509</td>\n",
       "      <td>YO</td>\n",
       "      <td>York</td>\n",
       "      <td>Zone: York</td>\n",
       "      <td>navigatela/reports/dot_parking_meter_zones.cfm...</td>\n",
       "      <td>None</td>\n",
       "    </tr>\n",
       "    <tr>\n",
       "      <th>3</th>\n",
       "      <td>4</td>\n",
       "      <td>520</td>\n",
       "      <td>PR</td>\n",
       "      <td>Pico Robertson</td>\n",
       "      <td>Zone: Pico Robertson</td>\n",
       "      <td>navigatela/reports/dot_parking_meter_zones.cfm...</td>\n",
       "      <td>None</td>\n",
       "    </tr>\n",
       "    <tr>\n",
       "      <th>4</th>\n",
       "      <td>5</td>\n",
       "      <td>521</td>\n",
       "      <td>R</td>\n",
       "      <td>Reseda</td>\n",
       "      <td>Zone: Reseda</td>\n",
       "      <td>navigatela/reports/dot_parking_meter_zones.cfm...</td>\n",
       "      <td>None</td>\n",
       "    </tr>\n",
       "  </tbody>\n",
       "</table>\n",
       "</div>"
      ],
      "text/plain": [
       "  OBJECTID  PMZ PMZ_CODE           PMZ_NAME                  TOOLTIP  \\\n",
       "0        1  519       GA   Glendale Atwater   Zone: Glendale Atwater   \n",
       "1        2  504       VH  Vermont Hollywood  Zone: Vermont Hollywood   \n",
       "2        3  509       YO               York               Zone: York   \n",
       "3        4  520       PR     Pico Robertson     Zone: Pico Robertson   \n",
       "4        5  521        R             Reseda             Zone: Reseda   \n",
       "\n",
       "                                             NLA_URL geometry  \n",
       "0  navigatela/reports/dot_parking_meter_zones.cfm...     None  \n",
       "1  navigatela/reports/dot_parking_meter_zones.cfm...     None  \n",
       "2  navigatela/reports/dot_parking_meter_zones.cfm...     None  \n",
       "3  navigatela/reports/dot_parking_meter_zones.cfm...     None  \n",
       "4  navigatela/reports/dot_parking_meter_zones.cfm...     None  "
      ]
     },
     "execution_count": 9,
     "metadata": {},
     "output_type": "execute_result"
    }
   ],
   "source": [
    "# what does the data look like? \n",
    "LADOT.head()"
   ]
  },
  {
   "cell_type": "code",
   "execution_count": 10,
   "id": "4ea6b0ef-7db7-410c-b042-9199261cfde6",
   "metadata": {},
   "outputs": [
    {
     "data": {
      "text/plain": [
       "(71, 7)"
      ]
     },
     "execution_count": 10,
     "metadata": {},
     "output_type": "execute_result"
    }
   ],
   "source": [
    "# what is the data's shape?\n",
    "LADOT.shape"
   ]
  },
  {
   "cell_type": "code",
   "execution_count": 11,
   "id": "40eaaa3e-43d6-490c-8e91-f4d133fb66f3",
   "metadata": {},
   "outputs": [
    {
     "data": {
      "text/plain": [
       "<bound method DataFrame.info of    OBJECTID  PMZ PMZ_CODE           PMZ_NAME                  TOOLTIP  \\\n",
       "0         1  519       GA   Glendale Atwater   Zone: Glendale Atwater   \n",
       "1         2  504       VH  Vermont Hollywood  Zone: Vermont Hollywood   \n",
       "2         3  509       YO               York               Zone: York   \n",
       "3         4  520       PR     Pico Robertson     Zone: Pico Robertson   \n",
       "4         5  521        R             Reseda             Zone: Reseda   \n",
       "..      ...  ...      ...                ...                      ...   \n",
       "66       67  568       MD   Medical District   Zone: Medical District   \n",
       "67       68  577       WH     Woodland Hills     Zone: Woodland Hills   \n",
       "68       69  579       UC     Universal City     Zone: Universal City   \n",
       "69       70  544       BH      Boyle Heights      Zone: Boyle Heights   \n",
       "70       71  556       WF   Wilshire Fairfax   Zone: Wilshire Fairfax   \n",
       "\n",
       "                                              NLA_URL geometry  \n",
       "0   navigatela/reports/dot_parking_meter_zones.cfm...     None  \n",
       "1   navigatela/reports/dot_parking_meter_zones.cfm...     None  \n",
       "2   navigatela/reports/dot_parking_meter_zones.cfm...     None  \n",
       "3   navigatela/reports/dot_parking_meter_zones.cfm...     None  \n",
       "4   navigatela/reports/dot_parking_meter_zones.cfm...     None  \n",
       "..                                                ...      ...  \n",
       "66  navigatela/reports/dot_parking_meter_zones.cfm...     None  \n",
       "67  navigatela/reports/dot_parking_meter_zones.cfm...     None  \n",
       "68  navigatela/reports/dot_parking_meter_zones.cfm...     None  \n",
       "69  navigatela/reports/dot_parking_meter_zones.cfm...     None  \n",
       "70  navigatela/reports/dot_parking_meter_zones.cfm...     None  \n",
       "\n",
       "[71 rows x 7 columns]>"
      ]
     },
     "execution_count": 11,
     "metadata": {},
     "output_type": "execute_result"
    }
   ],
   "source": [
    "# what info does the file contain? \n",
    "LADOT.info"
   ]
  },
  {
   "cell_type": "code",
   "execution_count": 16,
   "id": "ae5fdb77-f200-4257-aa3a-87602ea761fa",
   "metadata": {},
   "outputs": [
    {
     "data": {
      "text/plain": [
       "<AxesSubplot: >"
      ]
     },
     "execution_count": 16,
     "metadata": {},
     "output_type": "execute_result"
    },
    {
     "data": {
      "image/png": "[encoded data removed]",
      "text/plain": [
       "<Figure size 640x480 with 1 Axes>"
      ]
     },
     "metadata": {},
     "output_type": "display_data"
    }
   ],
   "source": [
    "# Plot the data\n",
    "LADOT.plot()"
   ]
  },
  {
   "cell_type": "code",
   "execution_count": 20,
   "id": "abe07f48-e664-4f04-803a-b125e405a262",
   "metadata": {},
   "outputs": [
    {
     "data": {
      "text/plain": [
       "Series([], dtype: int64)"
      ]
     },
     "execution_count": 20,
     "metadata": {},
     "output_type": "execute_result"
    }
   ],
   "source": [
    "# What is the count\n",
    "LADOT.value_counts()"
   ]
  },
  {
   "cell_type": "code",
   "execution_count": 18,
   "id": "6a8860db-5e1a-4731-8d88-80225d21a541",
   "metadata": {},
   "outputs": [
    {
     "data": {
      "text/html": [
       "<div>\n",
       "<style scoped>\n",
       "    .dataframe tbody tr th:only-of-type {\n",
       "        vertical-align: middle;\n",
       "    }\n",
       "\n",
       "    .dataframe tbody tr th {\n",
       "        vertical-align: top;\n",
       "    }\n",
       "\n",
       "    .dataframe thead th {\n",
       "        text-align: right;\n",
       "    }\n",
       "</style>\n",
       "<table border=\"1\" class=\"dataframe\">\n",
       "  <thead>\n",
       "    <tr style=\"text-align: right;\">\n",
       "      <th></th>\n",
       "      <th>OBJECTID</th>\n",
       "      <th>PMZ</th>\n",
       "      <th>PMZ_CODE</th>\n",
       "      <th>PMZ_NAME</th>\n",
       "      <th>TOOLTIP</th>\n",
       "      <th>NLA_URL</th>\n",
       "      <th>geometry</th>\n",
       "    </tr>\n",
       "  </thead>\n",
       "  <tbody>\n",
       "    <tr>\n",
       "      <th>69</th>\n",
       "      <td>70</td>\n",
       "      <td>544</td>\n",
       "      <td>BH</td>\n",
       "      <td>Boyle Heights</td>\n",
       "      <td>Zone: Boyle Heights</td>\n",
       "      <td>navigatela/reports/dot_parking_meter_zones.cfm...</td>\n",
       "      <td>None</td>\n",
       "    </tr>\n",
       "    <tr>\n",
       "      <th>70</th>\n",
       "      <td>71</td>\n",
       "      <td>556</td>\n",
       "      <td>WF</td>\n",
       "      <td>Wilshire Fairfax</td>\n",
       "      <td>Zone: Wilshire Fairfax</td>\n",
       "      <td>navigatela/reports/dot_parking_meter_zones.cfm...</td>\n",
       "      <td>None</td>\n",
       "    </tr>\n",
       "  </tbody>\n",
       "</table>\n",
       "</div>"
      ],
      "text/plain": [
       "   OBJECTID  PMZ PMZ_CODE          PMZ_NAME                 TOOLTIP  \\\n",
       "69       70  544       BH     Boyle Heights     Zone: Boyle Heights   \n",
       "70       71  556       WF  Wilshire Fairfax  Zone: Wilshire Fairfax   \n",
       "\n",
       "                                              NLA_URL geometry  \n",
       "69  navigatela/reports/dot_parking_meter_zones.cfm...     None  \n",
       "70  navigatela/reports/dot_parking_meter_zones.cfm...     None  "
      ]
     },
     "execution_count": 18,
     "metadata": {},
     "output_type": "execute_result"
    }
   ],
   "source": [
    "# try tail ()\n",
    "LADOT.tail(2)"
   ]
  },
  {
   "cell_type": "code",
   "execution_count": 21,
   "id": "85220363-1508-4f1c-a2dd-400e8fef61a8",
   "metadata": {},
   "outputs": [
    {
     "data": {
      "text/html": [
       "<div>\n",
       "<style scoped>\n",
       "    .dataframe tbody tr th:only-of-type {\n",
       "        vertical-align: middle;\n",
       "    }\n",
       "\n",
       "    .dataframe tbody tr th {\n",
       "        vertical-align: top;\n",
       "    }\n",
       "\n",
       "    .dataframe thead th {\n",
       "        text-align: right;\n",
       "    }\n",
       "</style>\n",
       "<table border=\"1\" class=\"dataframe\">\n",
       "  <thead>\n",
       "    <tr style=\"text-align: right;\">\n",
       "      <th></th>\n",
       "      <th>OBJECTID</th>\n",
       "      <th>PMZ</th>\n",
       "      <th>PMZ_CODE</th>\n",
       "      <th>PMZ_NAME</th>\n",
       "      <th>TOOLTIP</th>\n",
       "      <th>NLA_URL</th>\n",
       "      <th>geometry</th>\n",
       "    </tr>\n",
       "  </thead>\n",
       "  <tbody>\n",
       "    <tr>\n",
       "      <th>16</th>\n",
       "      <td>17</td>\n",
       "      <td>507</td>\n",
       "      <td>HP</td>\n",
       "      <td>Highland Park</td>\n",
       "      <td>Zone: Highland Park</td>\n",
       "      <td>navigatela/reports/dot_parking_meter_zones.cfm...</td>\n",
       "      <td>None</td>\n",
       "    </tr>\n",
       "    <tr>\n",
       "      <th>57</th>\n",
       "      <td>58</td>\n",
       "      <td>536</td>\n",
       "      <td>WS</td>\n",
       "      <td>Westwood Santa Monica</td>\n",
       "      <td>Zone: Westwood Santa Monica</td>\n",
       "      <td>navigatela/reports/dot_parking_meter_zones.cfm...</td>\n",
       "      <td>None</td>\n",
       "    </tr>\n",
       "    <tr>\n",
       "      <th>22</th>\n",
       "      <td>23</td>\n",
       "      <td>534</td>\n",
       "      <td>WN</td>\n",
       "      <td>Wilmington</td>\n",
       "      <td>Zone: Wilmington</td>\n",
       "      <td>navigatela/reports/dot_parking_meter_zones.cfm...</td>\n",
       "      <td>None</td>\n",
       "    </tr>\n",
       "    <tr>\n",
       "      <th>62</th>\n",
       "      <td>63</td>\n",
       "      <td>546</td>\n",
       "      <td>HO</td>\n",
       "      <td>Hollywood Vine</td>\n",
       "      <td>Zone: Hollywood Vine</td>\n",
       "      <td>navigatela/reports/dot_parking_meter_zones.cfm...</td>\n",
       "      <td>None</td>\n",
       "    </tr>\n",
       "  </tbody>\n",
       "</table>\n",
       "</div>"
      ],
      "text/plain": [
       "   OBJECTID  PMZ PMZ_CODE               PMZ_NAME                      TOOLTIP  \\\n",
       "16       17  507       HP          Highland Park          Zone: Highland Park   \n",
       "57       58  536       WS  Westwood Santa Monica  Zone: Westwood Santa Monica   \n",
       "22       23  534       WN             Wilmington             Zone: Wilmington   \n",
       "62       63  546       HO         Hollywood Vine         Zone: Hollywood Vine   \n",
       "\n",
       "                                              NLA_URL geometry  \n",
       "16  navigatela/reports/dot_parking_meter_zones.cfm...     None  \n",
       "57  navigatela/reports/dot_parking_meter_zones.cfm...     None  \n",
       "22  navigatela/reports/dot_parking_meter_zones.cfm...     None  \n",
       "62  navigatela/reports/dot_parking_meter_zones.cfm...     None  "
      ]
     },
     "execution_count": 21,
     "metadata": {},
     "output_type": "execute_result"
    }
   ],
   "source": [
    "# try sample()\n",
    "LADOT.sample(4)"
   ]
  },
  {
   "cell_type": "code",
   "execution_count": 22,
   "id": "054c720d-acaa-4a71-acfb-3324b0f16642",
   "metadata": {},
   "outputs": [
    {
     "data": {
      "text/plain": [
       "(71, 7)"
      ]
     },
     "execution_count": 22,
     "metadata": {},
     "output_type": "execute_result"
    }
   ],
   "source": [
    "# How many roews and columms?\n",
    "LADOT.shape"
   ]
  },
  {
   "cell_type": "code",
   "execution_count": 23,
   "id": "278bbd4c-025b-4950-955b-a24612cb9185",
   "metadata": {},
   "outputs": [
    {
     "data": {
      "text/plain": [
       "['OBJECTID', 'PMZ', 'PMZ_CODE', 'PMZ_NAME', 'TOOLTIP', 'NLA_URL', 'geometry']"
      ]
     },
     "execution_count": 23,
     "metadata": {},
     "output_type": "execute_result"
    }
   ],
   "source": [
    "# what are the columns?\n",
    "LADOT.columns.to_list()"
   ]
  },
  {
   "cell_type": "code",
   "execution_count": 33,
   "id": "705f50f5-c08a-4e2c-a22f-e0cc593adbd1",
   "metadata": {},
   "outputs": [
    {
     "data": {
      "text/html": [
       "<div>\n",
       "<style scoped>\n",
       "    .dataframe tbody tr th:only-of-type {\n",
       "        vertical-align: middle;\n",
       "    }\n",
       "\n",
       "    .dataframe tbody tr th {\n",
       "        vertical-align: top;\n",
       "    }\n",
       "\n",
       "    .dataframe thead th {\n",
       "        text-align: right;\n",
       "    }\n",
       "</style>\n",
       "<table border=\"1\" class=\"dataframe\">\n",
       "  <thead>\n",
       "    <tr style=\"text-align: right;\">\n",
       "      <th></th>\n",
       "      <th>PMZ</th>\n",
       "      <th>TOOLTIP</th>\n",
       "      <th>PMZ_CODE</th>\n",
       "    </tr>\n",
       "  </thead>\n",
       "  <tbody>\n",
       "    <tr>\n",
       "      <th>0</th>\n",
       "      <td>519</td>\n",
       "      <td>Zone: Glendale Atwater</td>\n",
       "      <td>GA</td>\n",
       "    </tr>\n",
       "    <tr>\n",
       "      <th>1</th>\n",
       "      <td>504</td>\n",
       "      <td>Zone: Vermont Hollywood</td>\n",
       "      <td>VH</td>\n",
       "    </tr>\n",
       "    <tr>\n",
       "      <th>2</th>\n",
       "      <td>509</td>\n",
       "      <td>Zone: York</td>\n",
       "      <td>YO</td>\n",
       "    </tr>\n",
       "    <tr>\n",
       "      <th>3</th>\n",
       "      <td>520</td>\n",
       "      <td>Zone: Pico Robertson</td>\n",
       "      <td>PR</td>\n",
       "    </tr>\n",
       "    <tr>\n",
       "      <th>4</th>\n",
       "      <td>521</td>\n",
       "      <td>Zone: Reseda</td>\n",
       "      <td>R</td>\n",
       "    </tr>\n",
       "    <tr>\n",
       "      <th>...</th>\n",
       "      <td>...</td>\n",
       "      <td>...</td>\n",
       "      <td>...</td>\n",
       "    </tr>\n",
       "    <tr>\n",
       "      <th>66</th>\n",
       "      <td>568</td>\n",
       "      <td>Zone: Medical District</td>\n",
       "      <td>MD</td>\n",
       "    </tr>\n",
       "    <tr>\n",
       "      <th>67</th>\n",
       "      <td>577</td>\n",
       "      <td>Zone: Woodland Hills</td>\n",
       "      <td>WH</td>\n",
       "    </tr>\n",
       "    <tr>\n",
       "      <th>68</th>\n",
       "      <td>579</td>\n",
       "      <td>Zone: Universal City</td>\n",
       "      <td>UC</td>\n",
       "    </tr>\n",
       "    <tr>\n",
       "      <th>69</th>\n",
       "      <td>544</td>\n",
       "      <td>Zone: Boyle Heights</td>\n",
       "      <td>BH</td>\n",
       "    </tr>\n",
       "    <tr>\n",
       "      <th>70</th>\n",
       "      <td>556</td>\n",
       "      <td>Zone: Wilshire Fairfax</td>\n",
       "      <td>WF</td>\n",
       "    </tr>\n",
       "  </tbody>\n",
       "</table>\n",
       "<p>71 rows × 3 columns</p>\n",
       "</div>"
      ],
      "text/plain": [
       "    PMZ                  TOOLTIP PMZ_CODE\n",
       "0   519   Zone: Glendale Atwater       GA\n",
       "1   504  Zone: Vermont Hollywood       VH\n",
       "2   509               Zone: York       YO\n",
       "3   520     Zone: Pico Robertson       PR\n",
       "4   521             Zone: Reseda        R\n",
       "..  ...                      ...      ...\n",
       "66  568   Zone: Medical District       MD\n",
       "67  577     Zone: Woodland Hills       WH\n",
       "68  579     Zone: Universal City       UC\n",
       "69  544      Zone: Boyle Heights       BH\n",
       "70  556   Zone: Wilshire Fairfax       WF\n",
       "\n",
       "[71 rows x 3 columns]"
      ]
     },
     "execution_count": 33,
     "metadata": {},
     "output_type": "execute_result"
    }
   ],
   "source": [
    "# show a dataframe with a subset of columns\n",
    "LADOT[['PMZ','TOOLTIP','PMZ_CODE']]"
   ]
  },
  {
   "cell_type": "code",
   "execution_count": 34,
   "id": "38485a2c-0a84-4f99-b396-df7c720cb498",
   "metadata": {},
   "outputs": [
    {
     "data": {
      "text/html": [
       "<div>\n",
       "<style scoped>\n",
       "    .dataframe tbody tr th:only-of-type {\n",
       "        vertical-align: middle;\n",
       "    }\n",
       "\n",
       "    .dataframe tbody tr th {\n",
       "        vertical-align: top;\n",
       "    }\n",
       "\n",
       "    .dataframe thead th {\n",
       "        text-align: right;\n",
       "    }\n",
       "</style>\n",
       "<table border=\"1\" class=\"dataframe\">\n",
       "  <thead>\n",
       "    <tr style=\"text-align: right;\">\n",
       "      <th></th>\n",
       "      <th>TOOLTIP</th>\n",
       "      <th>NLA_URL</th>\n",
       "      <th>geometry</th>\n",
       "    </tr>\n",
       "  </thead>\n",
       "  <tbody>\n",
       "    <tr>\n",
       "      <th>1</th>\n",
       "      <td>Zone: Vermont Hollywood</td>\n",
       "      <td>navigatela/reports/dot_parking_meter_zones.cfm...</td>\n",
       "      <td>None</td>\n",
       "    </tr>\n",
       "    <tr>\n",
       "      <th>21</th>\n",
       "      <td>Zone: Pacific Palisades</td>\n",
       "      <td>navigatela/reports/dot_parking_meter_zones.cfm...</td>\n",
       "      <td>None</td>\n",
       "    </tr>\n",
       "    <tr>\n",
       "      <th>35</th>\n",
       "      <td>Zone: Civic Center</td>\n",
       "      <td>navigatela/reports/dot_parking_meter_zones.cfm...</td>\n",
       "      <td>None</td>\n",
       "    </tr>\n",
       "    <tr>\n",
       "      <th>56</th>\n",
       "      <td>Zone: Westwood Village</td>\n",
       "      <td>navigatela/reports/dot_parking_meter_zones.cfm...</td>\n",
       "      <td>None</td>\n",
       "    </tr>\n",
       "    <tr>\n",
       "      <th>69</th>\n",
       "      <td>Zone: Boyle Heights</td>\n",
       "      <td>navigatela/reports/dot_parking_meter_zones.cfm...</td>\n",
       "      <td>None</td>\n",
       "    </tr>\n",
       "  </tbody>\n",
       "</table>\n",
       "</div>"
      ],
      "text/plain": [
       "                    TOOLTIP  \\\n",
       "1   Zone: Vermont Hollywood   \n",
       "21  Zone: Pacific Palisades   \n",
       "35       Zone: Civic Center   \n",
       "56   Zone: Westwood Village   \n",
       "69      Zone: Boyle Heights   \n",
       "\n",
       "                                              NLA_URL geometry  \n",
       "1   navigatela/reports/dot_parking_meter_zones.cfm...     None  \n",
       "21  navigatela/reports/dot_parking_meter_zones.cfm...     None  \n",
       "35  navigatela/reports/dot_parking_meter_zones.cfm...     None  \n",
       "56  navigatela/reports/dot_parking_meter_zones.cfm...     None  \n",
       "69  navigatela/reports/dot_parking_meter_zones.cfm...     None  "
      ]
     },
     "execution_count": 34,
     "metadata": {},
     "output_type": "execute_result"
    }
   ],
   "source": [
    "# list of desired column names\n",
    "desired_columns = ['TOOLTIP','NLA_URL','geometry']\n",
    "\n",
    "#subset based on desired columns\n",
    "LADOT[desired_columns].sample(5)"
   ]
  },
  {
   "cell_type": "code",
   "execution_count": 35,
   "id": "e52addfd-563c-4753-b6c8-f0422e09c3c0",
   "metadata": {},
   "outputs": [
    {
     "data": {
      "text/html": [
       "<div>\n",
       "<style scoped>\n",
       "    .dataframe tbody tr th:only-of-type {\n",
       "        vertical-align: middle;\n",
       "    }\n",
       "\n",
       "    .dataframe tbody tr th {\n",
       "        vertical-align: top;\n",
       "    }\n",
       "\n",
       "    .dataframe thead th {\n",
       "        text-align: right;\n",
       "    }\n",
       "</style>\n",
       "<table border=\"1\" class=\"dataframe\">\n",
       "  <thead>\n",
       "    <tr style=\"text-align: right;\">\n",
       "      <th></th>\n",
       "      <th>TOOLTIP</th>\n",
       "      <th>NLA_URL</th>\n",
       "      <th>geometry</th>\n",
       "    </tr>\n",
       "  </thead>\n",
       "  <tbody>\n",
       "    <tr>\n",
       "      <th>0</th>\n",
       "      <td>Zone: Glendale Atwater</td>\n",
       "      <td>navigatela/reports/dot_parking_meter_zones.cfm...</td>\n",
       "      <td>None</td>\n",
       "    </tr>\n",
       "    <tr>\n",
       "      <th>1</th>\n",
       "      <td>Zone: Vermont Hollywood</td>\n",
       "      <td>navigatela/reports/dot_parking_meter_zones.cfm...</td>\n",
       "      <td>None</td>\n",
       "    </tr>\n",
       "    <tr>\n",
       "      <th>2</th>\n",
       "      <td>Zone: York</td>\n",
       "      <td>navigatela/reports/dot_parking_meter_zones.cfm...</td>\n",
       "      <td>None</td>\n",
       "    </tr>\n",
       "    <tr>\n",
       "      <th>3</th>\n",
       "      <td>Zone: Pico Robertson</td>\n",
       "      <td>navigatela/reports/dot_parking_meter_zones.cfm...</td>\n",
       "      <td>None</td>\n",
       "    </tr>\n",
       "    <tr>\n",
       "      <th>4</th>\n",
       "      <td>Zone: Reseda</td>\n",
       "      <td>navigatela/reports/dot_parking_meter_zones.cfm...</td>\n",
       "      <td>None</td>\n",
       "    </tr>\n",
       "    <tr>\n",
       "      <th>...</th>\n",
       "      <td>...</td>\n",
       "      <td>...</td>\n",
       "      <td>...</td>\n",
       "    </tr>\n",
       "    <tr>\n",
       "      <th>66</th>\n",
       "      <td>Zone: Medical District</td>\n",
       "      <td>navigatela/reports/dot_parking_meter_zones.cfm...</td>\n",
       "      <td>None</td>\n",
       "    </tr>\n",
       "    <tr>\n",
       "      <th>67</th>\n",
       "      <td>Zone: Woodland Hills</td>\n",
       "      <td>navigatela/reports/dot_parking_meter_zones.cfm...</td>\n",
       "      <td>None</td>\n",
       "    </tr>\n",
       "    <tr>\n",
       "      <th>68</th>\n",
       "      <td>Zone: Universal City</td>\n",
       "      <td>navigatela/reports/dot_parking_meter_zones.cfm...</td>\n",
       "      <td>None</td>\n",
       "    </tr>\n",
       "    <tr>\n",
       "      <th>69</th>\n",
       "      <td>Zone: Boyle Heights</td>\n",
       "      <td>navigatela/reports/dot_parking_meter_zones.cfm...</td>\n",
       "      <td>None</td>\n",
       "    </tr>\n",
       "    <tr>\n",
       "      <th>70</th>\n",
       "      <td>Zone: Wilshire Fairfax</td>\n",
       "      <td>navigatela/reports/dot_parking_meter_zones.cfm...</td>\n",
       "      <td>None</td>\n",
       "    </tr>\n",
       "  </tbody>\n",
       "</table>\n",
       "<p>71 rows × 3 columns</p>\n",
       "</div>"
      ],
      "text/plain": [
       "                    TOOLTIP  \\\n",
       "0    Zone: Glendale Atwater   \n",
       "1   Zone: Vermont Hollywood   \n",
       "2                Zone: York   \n",
       "3      Zone: Pico Robertson   \n",
       "4              Zone: Reseda   \n",
       "..                      ...   \n",
       "66   Zone: Medical District   \n",
       "67     Zone: Woodland Hills   \n",
       "68     Zone: Universal City   \n",
       "69      Zone: Boyle Heights   \n",
       "70   Zone: Wilshire Fairfax   \n",
       "\n",
       "                                              NLA_URL geometry  \n",
       "0   navigatela/reports/dot_parking_meter_zones.cfm...     None  \n",
       "1   navigatela/reports/dot_parking_meter_zones.cfm...     None  \n",
       "2   navigatela/reports/dot_parking_meter_zones.cfm...     None  \n",
       "3   navigatela/reports/dot_parking_meter_zones.cfm...     None  \n",
       "4   navigatela/reports/dot_parking_meter_zones.cfm...     None  \n",
       "..                                                ...      ...  \n",
       "66  navigatela/reports/dot_parking_meter_zones.cfm...     None  \n",
       "67  navigatela/reports/dot_parking_meter_zones.cfm...     None  \n",
       "68  navigatela/reports/dot_parking_meter_zones.cfm...     None  \n",
       "69  navigatela/reports/dot_parking_meter_zones.cfm...     None  \n",
       "70  navigatela/reports/dot_parking_meter_zones.cfm...     None  \n",
       "\n",
       "[71 rows x 3 columns]"
      ]
     },
     "execution_count": 35,
     "metadata": {},
     "output_type": "execute_result"
    }
   ],
   "source": [
    "# Create a copy of the selected headings as a new variable, called LADOT_trimmed\n",
    "LADOT_trimmed = LADOT[desired_columns].copy()\n",
    "LADOT_trimmed"
   ]
  }
 ],
 "metadata": {
  "kernelspec": {
   "display_name": "Python 3 (ipykernel)",
   "language": "python",
   "name": "python3"
  },
  "language_info": {
   "codemirror_mode": {
    "name": "ipython",
    "version": 3
   },
   "file_extension": ".py",
   "mimetype": "text/x-python",
   "name": "python",
   "nbconvert_exporter": "python",
   "pygments_lexer": "ipython3",
   "version": "3.10.8"
  }
 },
 "nbformat": 4,
 "nbformat_minor": 5
}
