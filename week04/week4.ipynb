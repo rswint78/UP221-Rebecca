{
 "cells": [
  {
   "cell_type": "markdown",
   "id": "30f99280-8417-474e-8676-d21bbfa1f25c",
   "metadata": {},
   "source": [
    "### Traffic Accidents in LA County\n",
    "\n",
    "This notebook will attempt to explore car accident data in LA County using data from the LAPD.\n"
   ]
  },
  {
   "cell_type": "markdown",
   "id": "d0347310-28aa-4a79-bf33-22177ea3e3f9",
   "metadata": {},
   "source": [
    "### Import data from pandas\n",
    "To work with data in python, we need a library that will let us handle \"data exploration.\" Therefore, we are using pandas library."
   ]
  },
  {
   "cell_type": "code",
   "execution_count": 1,
   "id": "fa146ff8-4df0-4253-b39b-9514c7b74a8a",
   "metadata": {},
   "outputs": [],
   "source": [
    "import pandas as pd"
   ]
  },
  {
   "cell_type": "markdown",
   "id": "1755e6cb-1d33-4a04-90e0-ec8b8603103e",
   "metadata": {},
   "source": [
    "Next, we load the data that I downloaded from SWITRS. "
   ]
  },
  {
   "cell_type": "code",
   "execution_count": 3,
   "id": "1528e1b2-df5b-4900-a5fb-9527e621175e",
   "metadata": {},
   "outputs": [],
   "source": [
    "df = pd.read_csv(\n",
    "    'data/traffic_collision_data.csv')"
   ]
  },
  {
   "cell_type": "code",
   "execution_count": 4,
   "id": "52ec60eb-6637-469c-a5e0-1ae28b0ebf56",
   "metadata": {},
   "outputs": [
    {
     "data": {
      "text/plain": [
       "(586879, 24)"
      ]
     },
     "execution_count": 4,
     "metadata": {},
     "output_type": "execute_result"
    }
   ],
   "source": [
    "# A quick look at the size of the data\n",
    "df.shape"
   ]
  },
  {
   "cell_type": "code",
   "execution_count": 5,
   "id": "f197fef5-555d-48b9-b915-f833f4dca489",
   "metadata": {},
   "outputs": [
    {
     "data": {
      "text/html": [
       "<div>\n",
       "<style scoped>\n",
       "    .dataframe tbody tr th:only-of-type {\n",
       "        vertical-align: middle;\n",
       "    }\n",
       "\n",
       "    .dataframe tbody tr th {\n",
       "        vertical-align: top;\n",
       "    }\n",
       "\n",
       "    .dataframe thead th {\n",
       "        text-align: right;\n",
       "    }\n",
       "</style>\n",
       "<table border=\"1\" class=\"dataframe\">\n",
       "  <thead>\n",
       "    <tr style=\"text-align: right;\">\n",
       "      <th></th>\n",
       "      <th>DR Number</th>\n",
       "      <th>Date Reported</th>\n",
       "      <th>Date Occurred</th>\n",
       "      <th>Time Occurred</th>\n",
       "      <th>Area ID</th>\n",
       "      <th>Area Name</th>\n",
       "      <th>Reporting District</th>\n",
       "      <th>Crime Code</th>\n",
       "      <th>Crime Code Description</th>\n",
       "      <th>MO Codes</th>\n",
       "      <th>...</th>\n",
       "      <th>Premise Description</th>\n",
       "      <th>Address</th>\n",
       "      <th>Cross Street</th>\n",
       "      <th>Location</th>\n",
       "      <th>Zip Codes</th>\n",
       "      <th>Census Tracts</th>\n",
       "      <th>Precinct Boundaries</th>\n",
       "      <th>LA Specific Plans</th>\n",
       "      <th>Council Districts</th>\n",
       "      <th>Neighborhood Councils (Certified)</th>\n",
       "    </tr>\n",
       "  </thead>\n",
       "  <tbody>\n",
       "    <tr>\n",
       "      <th>0</th>\n",
       "      <td>190319651</td>\n",
       "      <td>08/24/2019</td>\n",
       "      <td>08/24/2019</td>\n",
       "      <td>450</td>\n",
       "      <td>3</td>\n",
       "      <td>Southwest</td>\n",
       "      <td>356</td>\n",
       "      <td>997</td>\n",
       "      <td>TRAFFIC COLLISION</td>\n",
       "      <td>3036 3004 3026 3101 4003</td>\n",
       "      <td>...</td>\n",
       "      <td>STREET</td>\n",
       "      <td>JEFFERSON                    BL</td>\n",
       "      <td>NORMANDIE                    AV</td>\n",
       "      <td>(34.0255, -118.3002)</td>\n",
       "      <td>22724.0</td>\n",
       "      <td>691.0</td>\n",
       "      <td>916.0</td>\n",
       "      <td>7.0</td>\n",
       "      <td>14.0</td>\n",
       "      <td>32.0</td>\n",
       "    </tr>\n",
       "    <tr>\n",
       "      <th>1</th>\n",
       "      <td>190319680</td>\n",
       "      <td>08/30/2019</td>\n",
       "      <td>08/30/2019</td>\n",
       "      <td>2320</td>\n",
       "      <td>3</td>\n",
       "      <td>Southwest</td>\n",
       "      <td>355</td>\n",
       "      <td>997</td>\n",
       "      <td>TRAFFIC COLLISION</td>\n",
       "      <td>3037 3006 3028 3030 3039 3101 4003</td>\n",
       "      <td>...</td>\n",
       "      <td>STREET</td>\n",
       "      <td>JEFFERSON                    BL</td>\n",
       "      <td>W  WESTERN</td>\n",
       "      <td>(34.0256, -118.3089)</td>\n",
       "      <td>23079.0</td>\n",
       "      <td>686.0</td>\n",
       "      <td>919.0</td>\n",
       "      <td>7.0</td>\n",
       "      <td>12.0</td>\n",
       "      <td>19.0</td>\n",
       "    </tr>\n",
       "    <tr>\n",
       "      <th>2</th>\n",
       "      <td>190413769</td>\n",
       "      <td>08/25/2019</td>\n",
       "      <td>08/25/2019</td>\n",
       "      <td>545</td>\n",
       "      <td>4</td>\n",
       "      <td>Hollenbeck</td>\n",
       "      <td>422</td>\n",
       "      <td>997</td>\n",
       "      <td>TRAFFIC COLLISION</td>\n",
       "      <td>3101 3401 3701 3006 3030</td>\n",
       "      <td>...</td>\n",
       "      <td>STREET</td>\n",
       "      <td>N  BROADWAY</td>\n",
       "      <td>W  EASTLAKE                     AV</td>\n",
       "      <td>(34.0738, -118.2078)</td>\n",
       "      <td>23448.0</td>\n",
       "      <td>488.0</td>\n",
       "      <td>516.0</td>\n",
       "      <td>NaN</td>\n",
       "      <td>11.0</td>\n",
       "      <td>1.0</td>\n",
       "    </tr>\n",
       "    <tr>\n",
       "      <th>3</th>\n",
       "      <td>190127578</td>\n",
       "      <td>11/20/2019</td>\n",
       "      <td>11/20/2019</td>\n",
       "      <td>350</td>\n",
       "      <td>1</td>\n",
       "      <td>Central</td>\n",
       "      <td>128</td>\n",
       "      <td>997</td>\n",
       "      <td>TRAFFIC COLLISION</td>\n",
       "      <td>0605 3101 3401 3701 3011 3034</td>\n",
       "      <td>...</td>\n",
       "      <td>STREET</td>\n",
       "      <td>1ST</td>\n",
       "      <td>CENTRAL</td>\n",
       "      <td>(34.0492, -118.2391)</td>\n",
       "      <td>22728.0</td>\n",
       "      <td>536.0</td>\n",
       "      <td>1502.0</td>\n",
       "      <td>NaN</td>\n",
       "      <td>9.0</td>\n",
       "      <td>28.0</td>\n",
       "    </tr>\n",
       "    <tr>\n",
       "      <th>4</th>\n",
       "      <td>190319695</td>\n",
       "      <td>08/30/2019</td>\n",
       "      <td>08/30/2019</td>\n",
       "      <td>2100</td>\n",
       "      <td>3</td>\n",
       "      <td>Southwest</td>\n",
       "      <td>374</td>\n",
       "      <td>997</td>\n",
       "      <td>TRAFFIC COLLISION</td>\n",
       "      <td>0605 4025 3037 3004 3025 3101</td>\n",
       "      <td>...</td>\n",
       "      <td>STREET</td>\n",
       "      <td>MARTIN LUTHER KING JR</td>\n",
       "      <td>ARLINGTON                    AV</td>\n",
       "      <td>(34.0108, -118.3182)</td>\n",
       "      <td>22725.0</td>\n",
       "      <td>747.0</td>\n",
       "      <td>1017.0</td>\n",
       "      <td>7.0</td>\n",
       "      <td>14.0</td>\n",
       "      <td>35.0</td>\n",
       "    </tr>\n",
       "  </tbody>\n",
       "</table>\n",
       "<p>5 rows × 24 columns</p>\n",
       "</div>"
      ],
      "text/plain": [
       "   DR Number Date Reported Date Occurred  Time Occurred  Area ID   Area Name  \\\n",
       "0  190319651    08/24/2019    08/24/2019            450        3   Southwest   \n",
       "1  190319680    08/30/2019    08/30/2019           2320        3   Southwest   \n",
       "2  190413769    08/25/2019    08/25/2019            545        4  Hollenbeck   \n",
       "3  190127578    11/20/2019    11/20/2019            350        1     Central   \n",
       "4  190319695    08/30/2019    08/30/2019           2100        3   Southwest   \n",
       "\n",
       "   Reporting District  Crime Code Crime Code Description  \\\n",
       "0                 356         997      TRAFFIC COLLISION   \n",
       "1                 355         997      TRAFFIC COLLISION   \n",
       "2                 422         997      TRAFFIC COLLISION   \n",
       "3                 128         997      TRAFFIC COLLISION   \n",
       "4                 374         997      TRAFFIC COLLISION   \n",
       "\n",
       "                             MO Codes  ...  Premise Description  \\\n",
       "0            3036 3004 3026 3101 4003  ...               STREET   \n",
       "1  3037 3006 3028 3030 3039 3101 4003  ...               STREET   \n",
       "2            3101 3401 3701 3006 3030  ...               STREET   \n",
       "3       0605 3101 3401 3701 3011 3034  ...               STREET   \n",
       "4       0605 4025 3037 3004 3025 3101  ...               STREET   \n",
       "\n",
       "                           Address                        Cross Street  \\\n",
       "0  JEFFERSON                    BL     NORMANDIE                    AV   \n",
       "1  JEFFERSON                    BL                          W  WESTERN   \n",
       "2                      N  BROADWAY  W  EASTLAKE                     AV   \n",
       "3                              1ST                             CENTRAL   \n",
       "4            MARTIN LUTHER KING JR     ARLINGTON                    AV   \n",
       "\n",
       "               Location Zip Codes Census Tracts Precinct Boundaries  \\\n",
       "0  (34.0255, -118.3002)   22724.0         691.0               916.0   \n",
       "1  (34.0256, -118.3089)   23079.0         686.0               919.0   \n",
       "2  (34.0738, -118.2078)   23448.0         488.0               516.0   \n",
       "3  (34.0492, -118.2391)   22728.0         536.0              1502.0   \n",
       "4  (34.0108, -118.3182)   22725.0         747.0              1017.0   \n",
       "\n",
       "  LA Specific Plans  Council Districts  Neighborhood Councils (Certified)  \n",
       "0               7.0               14.0                               32.0  \n",
       "1               7.0               12.0                               19.0  \n",
       "2               NaN               11.0                                1.0  \n",
       "3               NaN                9.0                               28.0  \n",
       "4               7.0               14.0                               35.0  \n",
       "\n",
       "[5 rows x 24 columns]"
      ]
     },
     "execution_count": 5,
     "metadata": {},
     "output_type": "execute_result"
    }
   ],
   "source": [
    "# This will show us the data headers\n",
    "df.head()"
   ]
  },
  {
   "cell_type": "code",
   "execution_count": 7,
   "id": "a481d410-35d2-47ab-afa3-52fe7306ffd6",
   "metadata": {},
   "outputs": [
    {
     "data": {
      "text/plain": [
       "[]"
      ]
     },
     "execution_count": 7,
     "metadata": {},
     "output_type": "execute_result"
    }
   ],
   "source": [
    "# Now we will see which columns contain empty values using .all() \n",
    "df.columns[df.isna().all()].tolist()"
   ]
  },
  {
   "cell_type": "code",
   "execution_count": 8,
   "id": "3b7082e6-88df-4959-ab45-259617320eff",
   "metadata": {},
   "outputs": [
    {
     "name": "stdout",
     "output_type": "stream",
     "text": [
      "<class 'pandas.core.frame.DataFrame'>\n",
      "RangeIndex: 586879 entries, 0 to 586878\n",
      "Data columns (total 24 columns):\n",
      " #   Column                             Non-Null Count   Dtype  \n",
      "---  ------                             --------------   -----  \n",
      " 0   DR Number                          586879 non-null  int64  \n",
      " 1   Date Reported                      586879 non-null  object \n",
      " 2   Date Occurred                      586879 non-null  object \n",
      " 3   Time Occurred                      586879 non-null  int64  \n",
      " 4   Area ID                            586879 non-null  int64  \n",
      " 5   Area Name                          586879 non-null  object \n",
      " 6   Reporting District                 586879 non-null  int64  \n",
      " 7   Crime Code                         586879 non-null  int64  \n",
      " 8   Crime Code Description             586879 non-null  object \n",
      " 9   MO Codes                           499767 non-null  object \n",
      " 10  Victim Age                         502075 non-null  float64\n",
      " 11  Victim Sex                         577396 non-null  object \n",
      " 12  Victim Descent                     576487 non-null  object \n",
      " 13  Premise Code                       585920 non-null  float64\n",
      " 14  Premise Description                585919 non-null  object \n",
      " 15  Address                            586879 non-null  object \n",
      " 16  Cross Street                       558995 non-null  object \n",
      " 17  Location                           586879 non-null  object \n",
      " 18  Zip Codes                          586068 non-null  float64\n",
      " 19  Census Tracts                      578699 non-null  float64\n",
      " 20  Precinct Boundaries                583027 non-null  float64\n",
      " 21  LA Specific Plans                  218714 non-null  float64\n",
      " 22  Council Districts                  579948 non-null  float64\n",
      " 23  Neighborhood Councils (Certified)  556984 non-null  float64\n",
      "dtypes: float64(8), int64(5), object(11)\n",
      "memory usage: 107.5+ MB\n"
     ]
    }
   ],
   "source": [
    "# Since there were no empty value columns, we move ahead to explore the data. \n",
    "df.info()"
   ]
  },
  {
   "cell_type": "markdown",
   "id": "c4515ab6-645e-4c57-bc11-526fefea55e1",
   "metadata": {},
   "source": [
    "### Run some sample statistics\n",
    "Now we will run some sample statistics on the data to see what it contains. "
   ]
  },
  {
   "cell_type": "code",
   "execution_count": 14,
   "id": "4abee95a-7f1c-4e8a-9760-2490ec9998fb",
   "metadata": {},
   "outputs": [
    {
     "data": {
      "text/plain": [
       "0         08/24/2019\n",
       "1         08/24/2019\n",
       "2         08/24/2019\n",
       "3         08/24/2019\n",
       "4         08/24/2019\n",
       "             ...    \n",
       "586874    08/24/2019\n",
       "586875    08/24/2019\n",
       "586876    08/24/2019\n",
       "586877    08/24/2019\n",
       "586878    08/24/2019\n",
       "Name: Date Reported, Length: 586879, dtype: object"
      ]
     },
     "execution_count": 14,
     "metadata": {},
     "output_type": "execute_result"
    }
   ],
   "source": [
    "# access a single column\n",
    "df['Date Reported']"
   ]
  },
  {
   "cell_type": "code",
   "execution_count": 15,
   "id": "a1c22e2c-d5c9-4091-a547-b464f577c186",
   "metadata": {},
   "outputs": [
    {
     "data": {
      "text/plain": [
       "0         08/24/2019\n",
       "1         08/24/2019\n",
       "2         08/24/2019\n",
       "3         08/24/2019\n",
       "4         08/24/2019\n",
       "             ...    \n",
       "586874    08/24/2019\n",
       "586875    08/24/2019\n",
       "586876    08/24/2019\n",
       "586877    08/24/2019\n",
       "586878    08/24/2019\n",
       "Name: Date Reported, Length: 586879, dtype: object"
      ]
     },
     "execution_count": 15,
     "metadata": {},
     "output_type": "execute_result"
    }
   ],
   "source": [
    "# What is the mean?\n",
    "df['Date Reported']"
   ]
  },
  {
   "cell_type": "code",
   "execution_count": null,
   "id": "72d5ed65-39ba-4f4e-9346-fe8886d0b6b8",
   "metadata": {},
   "outputs": [],
   "source": []
  }
 ],
 "metadata": {
  "kernelspec": {
   "display_name": "Python 3 (ipykernel)",
   "language": "python",
   "name": "python3"
  },
  "language_info": {
   "codemirror_mode": {
    "name": "ipython",
    "version": 3
   },
   "file_extension": ".py",
   "mimetype": "text/x-python",
   "name": "python",
   "nbconvert_exporter": "python",
   "pygments_lexer": "ipython3",
   "version": "3.10.8"
  }
 },
 "nbformat": 4,
 "nbformat_minor": 5
}
